{
  "nbformat": 4,
  "nbformat_minor": 0,
  "metadata": {
    "colab": {
      "name": "4)LassoR_RMSE.ipynb",
      "provenance": [],
      "authorship_tag": "ABX9TyN9uHUvgieqHtFk8PfocsXW",
      "include_colab_link": true
    },
    "kernelspec": {
      "name": "python3",
      "display_name": "Python 3"
    },
    "language_info": {
      "name": "python"
    }
  },
  "cells": [
    {
      "cell_type": "markdown",
      "metadata": {
        "id": "view-in-github",
        "colab_type": "text"
      },
      "source": [
        "<a href=\"https://colab.research.google.com/github/Naushad13b/Regression-Model/blob/main/4)LassoR_RMSE.ipynb\" target=\"_parent\"><img src=\"https://colab.research.google.com/assets/colab-badge.svg\" alt=\"Open In Colab\"/></a>"
      ]
    },
    {
      "cell_type": "code",
      "execution_count": null,
      "metadata": {
        "id": "QIj7ZS5QiXOE"
      },
      "outputs": [],
      "source": [
        "# Import the libraries\n",
        "import numpy as np\n",
        "import pandas as pd\n",
        "import matplotlib.pyplot as plt\n",
        "# Import the dataset\n",
        "dataset = pd.read_csv('allcities.csv')\n"
      ]
    },
    {
      "cell_type": "code",
      "source": [
        "#Mean - missed value first put None to NaN in dataset\n",
        "import numpy as np\n",
        "def change1(a):\n",
        "  dataset[a] = dataset[a].replace(np.NaN, dataset[a].mean())"
      ],
      "metadata": {
        "id": "e5Byq7MhtJjB"
      },
      "execution_count": null,
      "outputs": []
    },
    {
      "cell_type": "code",
      "source": [
        "#PM2.5\tPM10\tNO2\tSO2\tCO\tOzone\tTemp\tRH\tWS\tWD\tSR\n",
        "l=[\"PM2.5\",\"PM10\",\"NO2\",\"SO2\",\"CO\",\"Ozone\",\"RH\",\"Temp\",\"WS\",\"WD\",\"SR\"]\n",
        "for i in l:\n",
        "  change1(i)"
      ],
      "metadata": {
        "id": "R8rQVwgFtMe_"
      },
      "execution_count": null,
      "outputs": []
    },
    {
      "cell_type": "code",
      "source": [
        "X = dataset.iloc[0:,1:]\n",
        "y = dataset.iloc[0:,:1]#pm2.5 prediction\n",
        "# split data into training set and test set\n",
        "from sklearn.model_selection import train_test_split\n",
        "X_train, X_test, y_train, y_test = train_test_split(X, y, test_size = 1/3, random_state = 0)"
      ],
      "metadata": {
        "id": "uX1N0neYtFGw"
      },
      "execution_count": null,
      "outputs": []
    },
    {
      "cell_type": "code",
      "source": [
        "# Lasso regression\n",
        "from sklearn.linear_model import Lasso\n",
        "Lasr = Lasso(alpha=1.0)\n",
        "Lasr.fit(X_train, y_train)"
      ],
      "metadata": {
        "colab": {
          "base_uri": "https://localhost:8080/"
        },
        "id": "e4P9ordni5yN",
        "outputId": "a295db12-bfa4-4789-8ef1-d6aa9e327a6a"
      },
      "execution_count": null,
      "outputs": [
        {
          "output_type": "execute_result",
          "data": {
            "text/plain": [
              "Lasso()"
            ]
          },
          "metadata": {},
          "execution_count": 19
        }
      ]
    },
    {
      "cell_type": "code",
      "source": [
        "# Predicting the test set results\n",
        "y_pred = Lasr.predict(X_test)"
      ],
      "metadata": {
        "id": "C6pgXsh3jSoN"
      },
      "execution_count": null,
      "outputs": []
    },
    {
      "cell_type": "code",
      "source": [
        "y_pred"
      ],
      "metadata": {
        "colab": {
          "base_uri": "https://localhost:8080/"
        },
        "id": "e8HP4-30jV_E",
        "outputId": "6b218a75-d24a-4d79-a465-0829868c5dfd"
      },
      "execution_count": null,
      "outputs": [
        {
          "output_type": "execute_result",
          "data": {
            "text/plain": [
              "array([135.95167408, 169.7269947 ,   5.64622301, ...,   9.34929823,\n",
              "        90.23056827,  19.53585892])"
            ]
          },
          "metadata": {},
          "execution_count": 21
        }
      ]
    },
    {
      "cell_type": "code",
      "source": [
        "from sklearn import metrics\n",
        "print(metrics.mean_absolute_error(y_test,y_pred))\n",
        "print(metrics.mean_squared_error(y_test, y_pred))\n",
        "from sklearn.metrics import mean_squared_error\n",
        "from math import sqrt\n",
        "\n",
        "rmse = sqrt(mean_squared_error(y_test, y_pred))\n",
        "rmse"
      ],
      "metadata": {
        "colab": {
          "base_uri": "https://localhost:8080/"
        },
        "id": "RB8egYqsjXdN",
        "outputId": "e4555ce2-ce49-4f62-8bb2-91f38989af8b"
      },
      "execution_count": null,
      "outputs": [
        {
          "output_type": "stream",
          "name": "stdout",
          "text": [
            "25.047130035608596\n",
            "1538.177125996171\n"
          ]
        },
        {
          "output_type": "execute_result",
          "data": {
            "text/plain": [
              "39.21960129828159"
            ]
          },
          "metadata": {},
          "execution_count": 22
        }
      ]
    },
    {
      "cell_type": "code",
      "source": [
        "metrics.r2_score(y_test, y_pred)"
      ],
      "metadata": {
        "colab": {
          "base_uri": "https://localhost:8080/"
        },
        "id": "UhM9eAiTjgkc",
        "outputId": "1733f6b4-1cc6-471d-c0fe-e994b9f01ca3"
      },
      "execution_count": null,
      "outputs": [
        {
          "output_type": "execute_result",
          "data": {
            "text/plain": [
              "0.7090878596228709"
            ]
          },
          "metadata": {},
          "execution_count": 23
        }
      ]
    },
    {
      "cell_type": "code",
      "source": [
        ""
      ],
      "metadata": {
        "id": "yBpFHsdZjlkc"
      },
      "execution_count": null,
      "outputs": []
    }
  ]
}